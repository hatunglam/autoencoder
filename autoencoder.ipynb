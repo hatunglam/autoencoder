{
 "cells": [
  {
   "cell_type": "code",
   "execution_count": 2,
   "metadata": {},
   "outputs": [],
   "source": [
    "import torch \n",
    "import torch.nn as nn\n",
    "import torch.optim as optim\n",
    "from torchvision import datasets, transforms\n",
    "import matplotlib.pyplot as plt"
   ]
  },
  {
   "cell_type": "code",
   "execution_count": 3,
   "metadata": {},
   "outputs": [],
   "source": [
    "transform = transforms.ToTensor()\n",
    "mnist_data = datasets.MNIST(root= '.', train= True, download= True, transform = transform)\n",
    "\n",
    "data_loader = torch.utils.data.DataLoader(dataset= mnist_data,batch_size= 64, shuffle= True)"
   ]
  },
  {
   "cell_type": "code",
   "execution_count": 4,
   "metadata": {},
   "outputs": [
    {
     "name": "stdout",
     "output_type": "stream",
     "text": [
      "tensor(0.) tensor(1.)\n"
     ]
    }
   ],
   "source": [
    "data_iter = iter(data_loader)\n",
    "images, labels = next(data_iter)\n",
    "print(torch.min(images), torch.max(images)) "
   ]
  },
  {
   "cell_type": "code",
   "execution_count": 5,
   "metadata": {},
   "outputs": [],
   "source": [
    "class Autoencoder(nn.Module):\n",
    "    def __init__(self):\n",
    "        super().__init__()\n",
    "        self.encoder = nn.Sequential(\n",
    "            nn.Linear(28*28, 128), # N, 784 -> N, 128\n",
    "            nn.ReLU(),\n",
    "            nn.Linear(128, 64),\n",
    "            nn.ReLU(),\n",
    "            nn.Linear(64, 12),\n",
    "            nn.ReLU(),\n",
    "            nn.Linear(12, 3) # N, 3  \n",
    "        )\n",
    "        \n",
    "        self.decoder = nn.Sequential(\n",
    "            nn.Linear(3, 12), # N, 3 \n",
    "            nn.ReLU(),\n",
    "            nn.Linear(12, 64),\n",
    "            nn.ReLU(),\n",
    "            nn.Linear(64, 128),\n",
    "            nn.ReLU(),\n",
    "            nn.Linear(128, 28*28),\n",
    "            nn.Sigmoid() # last layer  \n",
    "        )\n",
    "        \n",
    "    def forward(self, X):\n",
    "\n",
    "        encoder = self.encoder(X)\n",
    "        decoder = self.decoder(encoder)\n",
    "\n",
    "        return decoder\n"
   ]
  },
  {
   "cell_type": "code",
   "execution_count": 6,
   "metadata": {},
   "outputs": [],
   "source": [
    "model = Autoencoder()\n",
    "criterion = nn.MSELoss()\n",
    "optimizer = torch.optim.Adam(model.parameters(), lr= 1e-3, weight_decay= 1e-5)\n"
   ]
  },
  {
   "cell_type": "code",
   "execution_count": null,
   "metadata": {},
   "outputs": [
    {
     "name": "stdout",
     "output_type": "stream",
     "text": [
      "Epoch: 1, Loss: 0.0509 \n",
      "Epoch: 2, Loss: 0.0401 \n",
      "Epoch: 3, Loss: 0.0409 \n",
      "Epoch: 4, Loss: 0.0433 \n",
      "Epoch: 5, Loss: 0.0327 \n",
      "Epoch: 6, Loss: 0.0387 \n",
      "Epoch: 7, Loss: 0.0365 \n",
      "Epoch: 8, Loss: 0.0339 \n",
      "Epoch: 9, Loss: 0.0421 \n",
      "Epoch: 10, Loss: 0.0350 \n"
     ]
    },
    {
     "ename": "",
     "evalue": "",
     "output_type": "error",
     "traceback": [
      "\u001b[1;31mThe Kernel crashed while executing code in the current cell or a previous cell. \n",
      "\u001b[1;31mPlease review the code in the cell(s) to identify a possible cause of the failure. \n",
      "\u001b[1;31mClick <a href='https://aka.ms/vscodeJupyterKernelCrash'>here</a> for more info. \n",
      "\u001b[1;31mView Jupyter <a href='command:jupyter.viewOutput'>log</a> for further details."
     ]
    }
   ],
   "source": [
    "# training loop:\n",
    "num_epoch = 10\n",
    "output = []\n",
    "for epoch in range(num_epoch):\n",
    "    for (img, _) in data_loader:\n",
    "        img = img.reshape(-1, 28*28)\n",
    "        recon = model(img)\n",
    "        loss = criterion(recon, img)\n",
    "\n",
    "        optimizer.zero_grad()\n",
    "        loss.backward()\n",
    "        optimizer.step()\n",
    "\n",
    "    print(f'Epoch: {epoch + 1}, Loss: {loss.item():.4f} ')\n",
    "    output.append((epoch, img, recon))\n"
   ]
  },
  {
   "cell_type": "code",
   "execution_count": null,
   "metadata": {},
   "outputs": [],
   "source": [
    "for k in range(0, num_epoch, 4):\n",
    "    plt.figure(figsize= (9,2))\n",
    "    plt.gray()\n",
    "    imgs = output[k][1].detach().numpy()\n",
    "    recon = output[k][2].detach().numpy()\n",
    "    for i, items in enumerate(imgs):\n",
    "        if i >= 9: break\n",
    "        plt.subplot(2, 9, i+1)\n",
    "        item = items.reshape(-1, 28,28)\n",
    "        plt.imshow(item[0])\n",
    "\n",
    "    for i, item in enumerate(recon):\n",
    "        if i>= 9: break\n",
    "        plt.subplot(2, 9, 9+i+1)\n",
    "        item = items.reshape(-1, 28,28)\n",
    "        plt.imshow(item[0])\n"
   ]
  },
  {
   "cell_type": "code",
   "execution_count": null,
   "metadata": {},
   "outputs": [],
   "source": []
  }
 ],
 "metadata": {
  "kernelspec": {
   "display_name": "Python 3",
   "language": "python",
   "name": "python3"
  },
  "language_info": {
   "codemirror_mode": {
    "name": "ipython",
    "version": 3
   },
   "file_extension": ".py",
   "mimetype": "text/x-python",
   "name": "python",
   "nbconvert_exporter": "python",
   "pygments_lexer": "ipython3",
   "version": "3.12.7"
  }
 },
 "nbformat": 4,
 "nbformat_minor": 2
}
